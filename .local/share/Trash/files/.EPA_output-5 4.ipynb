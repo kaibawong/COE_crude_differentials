{
 "cells": [
  {
   "cell_type": "code",
   "execution_count": 10,
   "metadata": {
    "scrolled": false
   },
   "outputs": [
    {
     "data": {
      "text/html": [
       "        <script type=\"text/javascript\">\n",
       "        window.PlotlyConfig = {MathJaxConfig: 'local'};\n",
       "        if (window.MathJax) {MathJax.Hub.Config({SVG: {font: \"STIX-Web\"}});}\n",
       "        if (typeof require !== 'undefined') {\n",
       "        require.undef(\"plotly\");\n",
       "        requirejs.config({\n",
       "            paths: {\n",
       "                'plotly': ['https://cdn.plot.ly/plotly-latest.min']\n",
       "            }\n",
       "        });\n",
       "        require(['plotly'], function(Plotly) {\n",
       "            window._Plotly = Plotly;\n",
       "        });\n",
       "        }\n",
       "        </script>\n",
       "        "
      ]
     },
     "metadata": {},
     "output_type": "display_data"
    },
    {
     "data": {
      "text/html": [
       "        <script type=\"text/javascript\">\n",
       "        window.PlotlyConfig = {MathJaxConfig: 'local'};\n",
       "        if (window.MathJax) {MathJax.Hub.Config({SVG: {font: \"STIX-Web\"}});}\n",
       "        if (typeof require !== 'undefined') {\n",
       "        require.undef(\"plotly\");\n",
       "        requirejs.config({\n",
       "            paths: {\n",
       "                'plotly': ['https://cdn.plot.ly/plotly-latest.min']\n",
       "            }\n",
       "        });\n",
       "        require(['plotly'], function(Plotly) {\n",
       "            window._Plotly = Plotly;\n",
       "        });\n",
       "        }\n",
       "        </script>\n",
       "        "
      ]
     },
     "metadata": {},
     "output_type": "display_data"
    },
    {
     "data": {
      "application/vnd.plotly.v1+json": {
       "config": {
        "linkText": "Export to plot.ly",
        "plotlyServerURL": "https://plot.ly",
        "showLink": false
       },
       "data": [
        {
         "name": "Dated Brent",
         "type": "scatter",
         "x": [
          2019,
          2020,
          2021,
          2022,
          2023,
          2024,
          2025,
          2026,
          2027,
          2028,
          2029,
          2030,
          2031
         ],
         "y": [
          59.5,
          64,
          66.1,
          71.3,
          71.1,
          64.1,
          64,
          64,
          64,
          64,
          64,
          64,
          64
         ]
        },
        {
         "name": "Propane",
         "type": "scatter",
         "x": [
          2019,
          2020,
          2021,
          2022,
          2023,
          2024,
          2025,
          2026,
          2027,
          2028,
          2029,
          2030,
          2031
         ],
         "y": [
          -26.80745872,
          -30.97796711,
          -31.15900809,
          -36.3872471,
          -39.0916392,
          -37.38004307,
          -38.18608611,
          -38.18608611,
          -38.18608611,
          -38.18608611,
          -38.18608611,
          -38.18608611,
          -38.18608611
         ]
        },
        {
         "name": "Gasoline",
         "type": "scatter",
         "x": [
          2019,
          2020,
          2021,
          2022,
          2023,
          2024,
          2025,
          2026,
          2027,
          2028,
          2029,
          2030,
          2031
         ],
         "y": [
          2.109940534,
          2.002793041,
          7.084882452,
          13.7289164,
          16.09757218,
          10.62005699,
          14.78271341,
          14.78271341,
          14.78271341,
          14.78271341,
          14.78271341,
          14.78271341,
          14.78271341
         ]
        },
        {
         "name": "Jet",
         "type": "scatter",
         "x": [
          2019,
          2020,
          2021,
          2022,
          2023,
          2024,
          2025,
          2026,
          2027,
          2028,
          2029,
          2030,
          2031
         ],
         "y": [
          17.17096575,
          16.29063191,
          15.70535888,
          13.142441199999999,
          13.25047085,
          13.41612524,
          17.16442646,
          17.16442646,
          17.16442646,
          17.16442646,
          17.16442646,
          17.16442646,
          17.16442646
         ]
        },
        {
         "name": "Gasoil",
         "type": "scatter",
         "x": [
          2019,
          2020,
          2021,
          2022,
          2023,
          2024,
          2025,
          2026,
          2027,
          2028,
          2029,
          2030,
          2031
         ],
         "y": [
          15.5134862,
          16.12611736,
          15.01015864,
          12.45077017,
          12.35943925,
          11.56969719,
          14.04653239,
          14.04653239,
          14.04653239,
          14.04653239,
          14.04653239,
          14.04653239,
          14.04653239
         ]
        },
        {
         "name": "FO 1%",
         "type": "scatter",
         "x": [
          2019,
          2020,
          2021,
          2022,
          2023,
          2024,
          2025,
          2026,
          2027,
          2028,
          2029,
          2030,
          2031
         ],
         "y": [
          -1.0337974540000001,
          0.075227582,
          -0.637241816,
          -4.700751082,
          -4.806451705,
          -0.661898624,
          1.731123332,
          1.731123332,
          1.731123332,
          1.731123332,
          1.731123332,
          1.731123332,
          1.731123332
         ]
        },
        {
         "name": "ULSD",
         "type": "scatter",
         "x": [
          2019,
          2020,
          2021,
          2022,
          2023,
          2024,
          2025,
          2026,
          2027,
          2028,
          2029,
          2030,
          2031
         ],
         "y": [
          16.00390837,
          16.96034591,
          16.412129399999998,
          14.06520918,
          14.39118825,
          12.77488049,
          15.43168311,
          15.43168311,
          15.43168311,
          15.43168311,
          15.43168311,
          15.43168311,
          15.43168311
         ]
        },
        {
         "name": "Naphtha",
         "type": "scatter",
         "x": [
          2019,
          2020,
          2021,
          2022,
          2023,
          2024,
          2025,
          2026,
          2027,
          2028,
          2029,
          2030,
          2031
         ],
         "y": [
          -8.161033516,
          -8.434113459,
          -6.816591981,
          -8.57274952,
          -10.50686971,
          -11.4879366,
          -8.039683947999999,
          -8.039683947999999,
          -8.039683947999999,
          -8.039683947999999,
          -8.039683947999999,
          -8.039683947999999,
          -8.039683947999999
         ]
        },
        {
         "name": "Butane",
         "type": "scatter",
         "x": [
          2019,
          2020,
          2021,
          2022,
          2023,
          2024,
          2025,
          2026,
          2027,
          2028,
          2029,
          2030,
          2031
         ],
         "y": [
          -28.26467842,
          -28.87538293,
          -27.04967446,
          -33.09116964,
          -37.27351929,
          -36.91802271,
          -37.72304433,
          -37.72304433,
          -37.72304433,
          -37.72304433,
          -37.72304433,
          -37.72304433,
          -37.72304433
         ]
        },
        {
         "name": "FO 3.5%",
         "type": "scatter",
         "x": [
          2019,
          2020,
          2021,
          2022,
          2023,
          2024,
          2025,
          2026,
          2027,
          2028,
          2029,
          2030,
          2031
         ],
         "y": [
          -5.765441939,
          -3.687851315,
          -4.134265163999999,
          -7.292836667,
          -10.41403504,
          -8.436628602999999,
          -5.839956275,
          -5.839956275,
          -5.839956275,
          -5.839956275,
          -5.839956275,
          -5.839956275,
          -5.839956275
         ]
        },
        {
         "name": "VGO 0.5%",
         "type": "scatter",
         "x": [
          2019,
          2020,
          2021,
          2022,
          2023,
          2024,
          2025,
          2026,
          2027,
          2028,
          2029,
          2030,
          2031
         ],
         "y": [
          5.001004012,
          3.952343361,
          4.960577985,
          5.46096037,
          6.212726101,
          6.581345097000001,
          7.441512055,
          7.441512055,
          7.441512055,
          7.441512055,
          7.441512055,
          7.441512055,
          7.441512055
         ]
        },
        {
         "name": "FO 0.5%",
         "type": "scatter",
         "x": [
          2019,
          2020,
          2021,
          2022,
          2023,
          2024,
          2025,
          2026,
          2027,
          2028,
          2029,
          2030,
          2031
         ],
         "y": [
          -0.853650737,
          -2.335636364,
          -0.663896104,
          -3.10231405,
          -5.629664032000001,
          -0.835,
          4.105513834,
          4.105513834,
          4.105513834,
          4.105513834,
          4.105513834,
          4.105513834,
          4.105513834
         ]
        },
        {
         "name": "VGO 2%",
         "type": "scatter",
         "x": [
          2019,
          2020,
          2021,
          2022,
          2023,
          2024,
          2025,
          2026,
          2027,
          2028,
          2029,
          2030,
          2031
         ],
         "y": [
          3.855722227,
          2.910074053,
          3.075169497,
          3.919292608,
          4.786822767,
          5.262463118,
          5.85368144,
          5.85368144,
          5.85368144,
          5.85368144,
          5.85368144,
          5.85368144,
          5.85368144
         ]
        }
       ],
       "layout": {
        "template": {
         "data": {
          "bar": [
           {
            "error_x": {
             "color": "#2a3f5f"
            },
            "error_y": {
             "color": "#2a3f5f"
            },
            "marker": {
             "line": {
              "color": "#E5ECF6",
              "width": 0.5
             }
            },
            "type": "bar"
           }
          ],
          "barpolar": [
           {
            "marker": {
             "line": {
              "color": "#E5ECF6",
              "width": 0.5
             }
            },
            "type": "barpolar"
           }
          ],
          "carpet": [
           {
            "aaxis": {
             "endlinecolor": "#2a3f5f",
             "gridcolor": "white",
             "linecolor": "white",
             "minorgridcolor": "white",
             "startlinecolor": "#2a3f5f"
            },
            "baxis": {
             "endlinecolor": "#2a3f5f",
             "gridcolor": "white",
             "linecolor": "white",
             "minorgridcolor": "white",
             "startlinecolor": "#2a3f5f"
            },
            "type": "carpet"
           }
          ],
          "choropleth": [
           {
            "colorbar": {
             "outlinewidth": 0,
             "ticks": ""
            },
            "type": "choropleth"
           }
          ],
          "contour": [
           {
            "colorbar": {
             "outlinewidth": 0,
             "ticks": ""
            },
            "colorscale": [
             [
              0,
              "#0d0887"
             ],
             [
              0.1111111111111111,
              "#46039f"
             ],
             [
              0.2222222222222222,
              "#7201a8"
             ],
             [
              0.3333333333333333,
              "#9c179e"
             ],
             [
              0.4444444444444444,
              "#bd3786"
             ],
             [
              0.5555555555555556,
              "#d8576b"
             ],
             [
              0.6666666666666666,
              "#ed7953"
             ],
             [
              0.7777777777777778,
              "#fb9f3a"
             ],
             [
              0.8888888888888888,
              "#fdca26"
             ],
             [
              1,
              "#f0f921"
             ]
            ],
            "type": "contour"
           }
          ],
          "contourcarpet": [
           {
            "colorbar": {
             "outlinewidth": 0,
             "ticks": ""
            },
            "type": "contourcarpet"
           }
          ],
          "heatmap": [
           {
            "colorbar": {
             "outlinewidth": 0,
             "ticks": ""
            },
            "colorscale": [
             [
              0,
              "#0d0887"
             ],
             [
              0.1111111111111111,
              "#46039f"
             ],
             [
              0.2222222222222222,
              "#7201a8"
             ],
             [
              0.3333333333333333,
              "#9c179e"
             ],
             [
              0.4444444444444444,
              "#bd3786"
             ],
             [
              0.5555555555555556,
              "#d8576b"
             ],
             [
              0.6666666666666666,
              "#ed7953"
             ],
             [
              0.7777777777777778,
              "#fb9f3a"
             ],
             [
              0.8888888888888888,
              "#fdca26"
             ],
             [
              1,
              "#f0f921"
             ]
            ],
            "type": "heatmap"
           }
          ],
          "heatmapgl": [
           {
            "colorbar": {
             "outlinewidth": 0,
             "ticks": ""
            },
            "colorscale": [
             [
              0,
              "#0d0887"
             ],
             [
              0.1111111111111111,
              "#46039f"
             ],
             [
              0.2222222222222222,
              "#7201a8"
             ],
             [
              0.3333333333333333,
              "#9c179e"
             ],
             [
              0.4444444444444444,
              "#bd3786"
             ],
             [
              0.5555555555555556,
              "#d8576b"
             ],
             [
              0.6666666666666666,
              "#ed7953"
             ],
             [
              0.7777777777777778,
              "#fb9f3a"
             ],
             [
              0.8888888888888888,
              "#fdca26"
             ],
             [
              1,
              "#f0f921"
             ]
            ],
            "type": "heatmapgl"
           }
          ],
          "histogram": [
           {
            "marker": {
             "colorbar": {
              "outlinewidth": 0,
              "ticks": ""
             }
            },
            "type": "histogram"
           }
          ],
          "histogram2d": [
           {
            "colorbar": {
             "outlinewidth": 0,
             "ticks": ""
            },
            "colorscale": [
             [
              0,
              "#0d0887"
             ],
             [
              0.1111111111111111,
              "#46039f"
             ],
             [
              0.2222222222222222,
              "#7201a8"
             ],
             [
              0.3333333333333333,
              "#9c179e"
             ],
             [
              0.4444444444444444,
              "#bd3786"
             ],
             [
              0.5555555555555556,
              "#d8576b"
             ],
             [
              0.6666666666666666,
              "#ed7953"
             ],
             [
              0.7777777777777778,
              "#fb9f3a"
             ],
             [
              0.8888888888888888,
              "#fdca26"
             ],
             [
              1,
              "#f0f921"
             ]
            ],
            "type": "histogram2d"
           }
          ],
          "histogram2dcontour": [
           {
            "colorbar": {
             "outlinewidth": 0,
             "ticks": ""
            },
            "colorscale": [
             [
              0,
              "#0d0887"
             ],
             [
              0.1111111111111111,
              "#46039f"
             ],
             [
              0.2222222222222222,
              "#7201a8"
             ],
             [
              0.3333333333333333,
              "#9c179e"
             ],
             [
              0.4444444444444444,
              "#bd3786"
             ],
             [
              0.5555555555555556,
              "#d8576b"
             ],
             [
              0.6666666666666666,
              "#ed7953"
             ],
             [
              0.7777777777777778,
              "#fb9f3a"
             ],
             [
              0.8888888888888888,
              "#fdca26"
             ],
             [
              1,
              "#f0f921"
             ]
            ],
            "type": "histogram2dcontour"
           }
          ],
          "mesh3d": [
           {
            "colorbar": {
             "outlinewidth": 0,
             "ticks": ""
            },
            "type": "mesh3d"
           }
          ],
          "parcoords": [
           {
            "line": {
             "colorbar": {
              "outlinewidth": 0,
              "ticks": ""
             }
            },
            "type": "parcoords"
           }
          ],
          "pie": [
           {
            "automargin": true,
            "type": "pie"
           }
          ],
          "scatter": [
           {
            "marker": {
             "colorbar": {
              "outlinewidth": 0,
              "ticks": ""
             }
            },
            "type": "scatter"
           }
          ],
          "scatter3d": [
           {
            "line": {
             "colorbar": {
              "outlinewidth": 0,
              "ticks": ""
             }
            },
            "marker": {
             "colorbar": {
              "outlinewidth": 0,
              "ticks": ""
             }
            },
            "type": "scatter3d"
           }
          ],
          "scattercarpet": [
           {
            "marker": {
             "colorbar": {
              "outlinewidth": 0,
              "ticks": ""
             }
            },
            "type": "scattercarpet"
           }
          ],
          "scattergeo": [
           {
            "marker": {
             "colorbar": {
              "outlinewidth": 0,
              "ticks": ""
             }
            },
            "type": "scattergeo"
           }
          ],
          "scattergl": [
           {
            "marker": {
             "colorbar": {
              "outlinewidth": 0,
              "ticks": ""
             }
            },
            "type": "scattergl"
           }
          ],
          "scattermapbox": [
           {
            "marker": {
             "colorbar": {
              "outlinewidth": 0,
              "ticks": ""
             }
            },
            "type": "scattermapbox"
           }
          ],
          "scatterpolar": [
           {
            "marker": {
             "colorbar": {
              "outlinewidth": 0,
              "ticks": ""
             }
            },
            "type": "scatterpolar"
           }
          ],
          "scatterpolargl": [
           {
            "marker": {
             "colorbar": {
              "outlinewidth": 0,
              "ticks": ""
             }
            },
            "type": "scatterpolargl"
           }
          ],
          "scatterternary": [
           {
            "marker": {
             "colorbar": {
              "outlinewidth": 0,
              "ticks": ""
             }
            },
            "type": "scatterternary"
           }
          ],
          "surface": [
           {
            "colorbar": {
             "outlinewidth": 0,
             "ticks": ""
            },
            "colorscale": [
             [
              0,
              "#0d0887"
             ],
             [
              0.1111111111111111,
              "#46039f"
             ],
             [
              0.2222222222222222,
              "#7201a8"
             ],
             [
              0.3333333333333333,
              "#9c179e"
             ],
             [
              0.4444444444444444,
              "#bd3786"
             ],
             [
              0.5555555555555556,
              "#d8576b"
             ],
             [
              0.6666666666666666,
              "#ed7953"
             ],
             [
              0.7777777777777778,
              "#fb9f3a"
             ],
             [
              0.8888888888888888,
              "#fdca26"
             ],
             [
              1,
              "#f0f921"
             ]
            ],
            "type": "surface"
           }
          ],
          "table": [
           {
            "cells": {
             "fill": {
              "color": "#EBF0F8"
             },
             "line": {
              "color": "white"
             }
            },
            "header": {
             "fill": {
              "color": "#C8D4E3"
             },
             "line": {
              "color": "white"
             }
            },
            "type": "table"
           }
          ]
         },
         "layout": {
          "annotationdefaults": {
           "arrowcolor": "#2a3f5f",
           "arrowhead": 0,
           "arrowwidth": 1
          },
          "coloraxis": {
           "colorbar": {
            "outlinewidth": 0,
            "ticks": ""
           }
          },
          "colorscale": {
           "diverging": [
            [
             0,
             "#8e0152"
            ],
            [
             0.1,
             "#c51b7d"
            ],
            [
             0.2,
             "#de77ae"
            ],
            [
             0.3,
             "#f1b6da"
            ],
            [
             0.4,
             "#fde0ef"
            ],
            [
             0.5,
             "#f7f7f7"
            ],
            [
             0.6,
             "#e6f5d0"
            ],
            [
             0.7,
             "#b8e186"
            ],
            [
             0.8,
             "#7fbc41"
            ],
            [
             0.9,
             "#4d9221"
            ],
            [
             1,
             "#276419"
            ]
           ],
           "sequential": [
            [
             0,
             "#0d0887"
            ],
            [
             0.1111111111111111,
             "#46039f"
            ],
            [
             0.2222222222222222,
             "#7201a8"
            ],
            [
             0.3333333333333333,
             "#9c179e"
            ],
            [
             0.4444444444444444,
             "#bd3786"
            ],
            [
             0.5555555555555556,
             "#d8576b"
            ],
            [
             0.6666666666666666,
             "#ed7953"
            ],
            [
             0.7777777777777778,
             "#fb9f3a"
            ],
            [
             0.8888888888888888,
             "#fdca26"
            ],
            [
             1,
             "#f0f921"
            ]
           ],
           "sequentialminus": [
            [
             0,
             "#0d0887"
            ],
            [
             0.1111111111111111,
             "#46039f"
            ],
            [
             0.2222222222222222,
             "#7201a8"
            ],
            [
             0.3333333333333333,
             "#9c179e"
            ],
            [
             0.4444444444444444,
             "#bd3786"
            ],
            [
             0.5555555555555556,
             "#d8576b"
            ],
            [
             0.6666666666666666,
             "#ed7953"
            ],
            [
             0.7777777777777778,
             "#fb9f3a"
            ],
            [
             0.8888888888888888,
             "#fdca26"
            ],
            [
             1,
             "#f0f921"
            ]
           ]
          },
          "colorway": [
           "#636efa",
           "#EF553B",
           "#00cc96",
           "#ab63fa",
           "#FFA15A",
           "#19d3f3",
           "#FF6692",
           "#B6E880",
           "#FF97FF",
           "#FECB52"
          ],
          "font": {
           "color": "#2a3f5f"
          },
          "geo": {
           "bgcolor": "white",
           "lakecolor": "white",
           "landcolor": "#E5ECF6",
           "showlakes": true,
           "showland": true,
           "subunitcolor": "white"
          },
          "hoverlabel": {
           "align": "left"
          },
          "hovermode": "closest",
          "mapbox": {
           "style": "light"
          },
          "paper_bgcolor": "white",
          "plot_bgcolor": "#E5ECF6",
          "polar": {
           "angularaxis": {
            "gridcolor": "white",
            "linecolor": "white",
            "ticks": ""
           },
           "bgcolor": "#E5ECF6",
           "radialaxis": {
            "gridcolor": "white",
            "linecolor": "white",
            "ticks": ""
           }
          },
          "scene": {
           "xaxis": {
            "backgroundcolor": "#E5ECF6",
            "gridcolor": "white",
            "gridwidth": 2,
            "linecolor": "white",
            "showbackground": true,
            "ticks": "",
            "zerolinecolor": "white"
           },
           "yaxis": {
            "backgroundcolor": "#E5ECF6",
            "gridcolor": "white",
            "gridwidth": 2,
            "linecolor": "white",
            "showbackground": true,
            "ticks": "",
            "zerolinecolor": "white"
           },
           "zaxis": {
            "backgroundcolor": "#E5ECF6",
            "gridcolor": "white",
            "gridwidth": 2,
            "linecolor": "white",
            "showbackground": true,
            "ticks": "",
            "zerolinecolor": "white"
           }
          },
          "shapedefaults": {
           "line": {
            "color": "#2a3f5f"
           }
          },
          "ternary": {
           "aaxis": {
            "gridcolor": "white",
            "linecolor": "white",
            "ticks": ""
           },
           "baxis": {
            "gridcolor": "white",
            "linecolor": "white",
            "ticks": ""
           },
           "bgcolor": "#E5ECF6",
           "caxis": {
            "gridcolor": "white",
            "linecolor": "white",
            "ticks": ""
           }
          },
          "title": {
           "x": 0.05
          },
          "xaxis": {
           "automargin": true,
           "gridcolor": "white",
           "linecolor": "white",
           "ticks": "",
           "title": {
            "standoff": 15
           },
           "zerolinecolor": "white",
           "zerolinewidth": 2
          },
          "yaxis": {
           "automargin": true,
           "gridcolor": "white",
           "linecolor": "white",
           "ticks": "",
           "title": {
            "standoff": 15
           },
           "zerolinecolor": "white",
           "zerolinewidth": 2
          }
         }
        },
        "title": {
         "text": "Predicted brent and product prices"
        }
       }
      },
      "text/html": [
       "<div>\n",
       "        \n",
       "        \n",
       "            <div id=\"a4cbcdd1-a1d1-435e-a870-836abebd794c\" class=\"plotly-graph-div\" style=\"height:525px; width:100%;\"></div>\n",
       "            <script type=\"text/javascript\">\n",
       "                require([\"plotly\"], function(Plotly) {\n",
       "                    window.PLOTLYENV=window.PLOTLYENV || {};\n",
       "                    \n",
       "                if (document.getElementById(\"a4cbcdd1-a1d1-435e-a870-836abebd794c\")) {\n",
       "                    Plotly.newPlot(\n",
       "                        'a4cbcdd1-a1d1-435e-a870-836abebd794c',\n",
       "                        [{\"name\": \"Dated Brent\", \"type\": \"scatter\", \"x\": [2019, 2020, 2021, 2022, 2023, 2024, 2025, 2026, 2027, 2028, 2029, 2030, 2031], \"y\": [59.5, 64.0, 66.1, 71.3, 71.1, 64.1, 64.0, 64.0, 64.0, 64.0, 64.0, 64.0, 64.0]}, {\"name\": \"Propane\", \"type\": \"scatter\", \"x\": [2019, 2020, 2021, 2022, 2023, 2024, 2025, 2026, 2027, 2028, 2029, 2030, 2031], \"y\": [-26.80745872, -30.97796711, -31.15900809, -36.3872471, -39.0916392, -37.38004307, -38.18608611, -38.18608611, -38.18608611, -38.18608611, -38.18608611, -38.18608611, -38.18608611]}, {\"name\": \"Gasoline\", \"type\": \"scatter\", \"x\": [2019, 2020, 2021, 2022, 2023, 2024, 2025, 2026, 2027, 2028, 2029, 2030, 2031], \"y\": [2.109940534, 2.002793041, 7.084882452, 13.7289164, 16.09757218, 10.62005699, 14.78271341, 14.78271341, 14.78271341, 14.78271341, 14.78271341, 14.78271341, 14.78271341]}, {\"name\": \"Jet\", \"type\": \"scatter\", \"x\": [2019, 2020, 2021, 2022, 2023, 2024, 2025, 2026, 2027, 2028, 2029, 2030, 2031], \"y\": [17.17096575, 16.29063191, 15.70535888, 13.142441199999999, 13.25047085, 13.41612524, 17.16442646, 17.16442646, 17.16442646, 17.16442646, 17.16442646, 17.16442646, 17.16442646]}, {\"name\": \"Gasoil\", \"type\": \"scatter\", \"x\": [2019, 2020, 2021, 2022, 2023, 2024, 2025, 2026, 2027, 2028, 2029, 2030, 2031], \"y\": [15.5134862, 16.12611736, 15.01015864, 12.45077017, 12.35943925, 11.56969719, 14.04653239, 14.04653239, 14.04653239, 14.04653239, 14.04653239, 14.04653239, 14.04653239]}, {\"name\": \"FO 1%\", \"type\": \"scatter\", \"x\": [2019, 2020, 2021, 2022, 2023, 2024, 2025, 2026, 2027, 2028, 2029, 2030, 2031], \"y\": [-1.0337974540000001, 0.075227582, -0.637241816, -4.700751082, -4.806451705, -0.661898624, 1.731123332, 1.731123332, 1.731123332, 1.731123332, 1.731123332, 1.731123332, 1.731123332]}, {\"name\": \"ULSD\", \"type\": \"scatter\", \"x\": [2019, 2020, 2021, 2022, 2023, 2024, 2025, 2026, 2027, 2028, 2029, 2030, 2031], \"y\": [16.00390837, 16.96034591, 16.412129399999998, 14.06520918, 14.39118825, 12.77488049, 15.43168311, 15.43168311, 15.43168311, 15.43168311, 15.43168311, 15.43168311, 15.43168311]}, {\"name\": \"Naphtha\", \"type\": \"scatter\", \"x\": [2019, 2020, 2021, 2022, 2023, 2024, 2025, 2026, 2027, 2028, 2029, 2030, 2031], \"y\": [-8.161033516, -8.434113459, -6.816591981, -8.57274952, -10.50686971, -11.4879366, -8.039683947999999, -8.039683947999999, -8.039683947999999, -8.039683947999999, -8.039683947999999, -8.039683947999999, -8.039683947999999]}, {\"name\": \"Butane\", \"type\": \"scatter\", \"x\": [2019, 2020, 2021, 2022, 2023, 2024, 2025, 2026, 2027, 2028, 2029, 2030, 2031], \"y\": [-28.26467842, -28.87538293, -27.04967446, -33.09116964, -37.27351929, -36.91802271, -37.72304433, -37.72304433, -37.72304433, -37.72304433, -37.72304433, -37.72304433, -37.72304433]}, {\"name\": \"FO 3.5%\", \"type\": \"scatter\", \"x\": [2019, 2020, 2021, 2022, 2023, 2024, 2025, 2026, 2027, 2028, 2029, 2030, 2031], \"y\": [-5.765441939, -3.687851315, -4.134265163999999, -7.292836667, -10.41403504, -8.436628602999999, -5.839956275, -5.839956275, -5.839956275, -5.839956275, -5.839956275, -5.839956275, -5.839956275]}, {\"name\": \"VGO 0.5%\", \"type\": \"scatter\", \"x\": [2019, 2020, 2021, 2022, 2023, 2024, 2025, 2026, 2027, 2028, 2029, 2030, 2031], \"y\": [5.001004012, 3.952343361, 4.960577985, 5.46096037, 6.212726101, 6.581345097000001, 7.441512055, 7.441512055, 7.441512055, 7.441512055, 7.441512055, 7.441512055, 7.441512055]}, {\"name\": \"FO 0.5%\", \"type\": \"scatter\", \"x\": [2019, 2020, 2021, 2022, 2023, 2024, 2025, 2026, 2027, 2028, 2029, 2030, 2031], \"y\": [-0.853650737, -2.335636364, -0.663896104, -3.10231405, -5.629664032000001, -0.835, 4.105513834, 4.105513834, 4.105513834, 4.105513834, 4.105513834, 4.105513834, 4.105513834]}, {\"name\": \"VGO 2%\", \"type\": \"scatter\", \"x\": [2019, 2020, 2021, 2022, 2023, 2024, 2025, 2026, 2027, 2028, 2029, 2030, 2031], \"y\": [3.855722227, 2.910074053, 3.075169497, 3.919292608, 4.786822767, 5.262463118, 5.85368144, 5.85368144, 5.85368144, 5.85368144, 5.85368144, 5.85368144, 5.85368144]}],\n",
       "                        {\"template\": {\"data\": {\"bar\": [{\"error_x\": {\"color\": \"#2a3f5f\"}, \"error_y\": {\"color\": \"#2a3f5f\"}, \"marker\": {\"line\": {\"color\": \"#E5ECF6\", \"width\": 0.5}}, \"type\": \"bar\"}], \"barpolar\": [{\"marker\": {\"line\": {\"color\": \"#E5ECF6\", \"width\": 0.5}}, \"type\": \"barpolar\"}], \"carpet\": [{\"aaxis\": {\"endlinecolor\": \"#2a3f5f\", \"gridcolor\": \"white\", \"linecolor\": \"white\", \"minorgridcolor\": \"white\", \"startlinecolor\": \"#2a3f5f\"}, \"baxis\": {\"endlinecolor\": \"#2a3f5f\", \"gridcolor\": \"white\", \"linecolor\": \"white\", \"minorgridcolor\": \"white\", \"startlinecolor\": \"#2a3f5f\"}, \"type\": \"carpet\"}], \"choropleth\": [{\"colorbar\": {\"outlinewidth\": 0, \"ticks\": \"\"}, \"type\": \"choropleth\"}], \"contour\": [{\"colorbar\": {\"outlinewidth\": 0, \"ticks\": \"\"}, \"colorscale\": [[0.0, \"#0d0887\"], [0.1111111111111111, \"#46039f\"], [0.2222222222222222, \"#7201a8\"], [0.3333333333333333, \"#9c179e\"], [0.4444444444444444, \"#bd3786\"], [0.5555555555555556, \"#d8576b\"], [0.6666666666666666, \"#ed7953\"], [0.7777777777777778, \"#fb9f3a\"], [0.8888888888888888, \"#fdca26\"], [1.0, \"#f0f921\"]], \"type\": \"contour\"}], \"contourcarpet\": [{\"colorbar\": {\"outlinewidth\": 0, \"ticks\": \"\"}, \"type\": \"contourcarpet\"}], \"heatmap\": [{\"colorbar\": {\"outlinewidth\": 0, \"ticks\": \"\"}, \"colorscale\": [[0.0, \"#0d0887\"], [0.1111111111111111, \"#46039f\"], [0.2222222222222222, \"#7201a8\"], [0.3333333333333333, \"#9c179e\"], [0.4444444444444444, \"#bd3786\"], [0.5555555555555556, \"#d8576b\"], [0.6666666666666666, \"#ed7953\"], [0.7777777777777778, \"#fb9f3a\"], [0.8888888888888888, \"#fdca26\"], [1.0, \"#f0f921\"]], \"type\": \"heatmap\"}], \"heatmapgl\": [{\"colorbar\": {\"outlinewidth\": 0, \"ticks\": \"\"}, \"colorscale\": [[0.0, \"#0d0887\"], [0.1111111111111111, \"#46039f\"], [0.2222222222222222, \"#7201a8\"], [0.3333333333333333, \"#9c179e\"], [0.4444444444444444, \"#bd3786\"], [0.5555555555555556, \"#d8576b\"], [0.6666666666666666, \"#ed7953\"], [0.7777777777777778, \"#fb9f3a\"], [0.8888888888888888, \"#fdca26\"], [1.0, \"#f0f921\"]], \"type\": \"heatmapgl\"}], \"histogram\": [{\"marker\": {\"colorbar\": {\"outlinewidth\": 0, \"ticks\": \"\"}}, \"type\": \"histogram\"}], \"histogram2d\": [{\"colorbar\": {\"outlinewidth\": 0, \"ticks\": \"\"}, \"colorscale\": [[0.0, \"#0d0887\"], [0.1111111111111111, \"#46039f\"], [0.2222222222222222, \"#7201a8\"], [0.3333333333333333, \"#9c179e\"], [0.4444444444444444, \"#bd3786\"], [0.5555555555555556, \"#d8576b\"], [0.6666666666666666, \"#ed7953\"], [0.7777777777777778, \"#fb9f3a\"], [0.8888888888888888, \"#fdca26\"], [1.0, \"#f0f921\"]], \"type\": \"histogram2d\"}], \"histogram2dcontour\": [{\"colorbar\": {\"outlinewidth\": 0, \"ticks\": \"\"}, \"colorscale\": [[0.0, \"#0d0887\"], [0.1111111111111111, \"#46039f\"], [0.2222222222222222, \"#7201a8\"], [0.3333333333333333, \"#9c179e\"], [0.4444444444444444, \"#bd3786\"], [0.5555555555555556, \"#d8576b\"], [0.6666666666666666, \"#ed7953\"], [0.7777777777777778, \"#fb9f3a\"], [0.8888888888888888, \"#fdca26\"], [1.0, \"#f0f921\"]], \"type\": \"histogram2dcontour\"}], \"mesh3d\": [{\"colorbar\": {\"outlinewidth\": 0, \"ticks\": \"\"}, \"type\": \"mesh3d\"}], \"parcoords\": [{\"line\": {\"colorbar\": {\"outlinewidth\": 0, \"ticks\": \"\"}}, \"type\": \"parcoords\"}], \"pie\": [{\"automargin\": true, \"type\": \"pie\"}], \"scatter\": [{\"marker\": {\"colorbar\": {\"outlinewidth\": 0, \"ticks\": \"\"}}, \"type\": \"scatter\"}], \"scatter3d\": [{\"line\": {\"colorbar\": {\"outlinewidth\": 0, \"ticks\": \"\"}}, \"marker\": {\"colorbar\": {\"outlinewidth\": 0, \"ticks\": \"\"}}, \"type\": \"scatter3d\"}], \"scattercarpet\": [{\"marker\": {\"colorbar\": {\"outlinewidth\": 0, \"ticks\": \"\"}}, \"type\": \"scattercarpet\"}], \"scattergeo\": [{\"marker\": {\"colorbar\": {\"outlinewidth\": 0, \"ticks\": \"\"}}, \"type\": \"scattergeo\"}], \"scattergl\": [{\"marker\": {\"colorbar\": {\"outlinewidth\": 0, \"ticks\": \"\"}}, \"type\": \"scattergl\"}], \"scattermapbox\": [{\"marker\": {\"colorbar\": {\"outlinewidth\": 0, \"ticks\": \"\"}}, \"type\": \"scattermapbox\"}], \"scatterpolar\": [{\"marker\": {\"colorbar\": {\"outlinewidth\": 0, \"ticks\": \"\"}}, \"type\": \"scatterpolar\"}], \"scatterpolargl\": [{\"marker\": {\"colorbar\": {\"outlinewidth\": 0, \"ticks\": \"\"}}, \"type\": \"scatterpolargl\"}], \"scatterternary\": [{\"marker\": {\"colorbar\": {\"outlinewidth\": 0, \"ticks\": \"\"}}, \"type\": \"scatterternary\"}], \"surface\": [{\"colorbar\": {\"outlinewidth\": 0, \"ticks\": \"\"}, \"colorscale\": [[0.0, \"#0d0887\"], [0.1111111111111111, \"#46039f\"], [0.2222222222222222, \"#7201a8\"], [0.3333333333333333, \"#9c179e\"], [0.4444444444444444, \"#bd3786\"], [0.5555555555555556, \"#d8576b\"], [0.6666666666666666, \"#ed7953\"], [0.7777777777777778, \"#fb9f3a\"], [0.8888888888888888, \"#fdca26\"], [1.0, \"#f0f921\"]], \"type\": \"surface\"}], \"table\": [{\"cells\": {\"fill\": {\"color\": \"#EBF0F8\"}, \"line\": {\"color\": \"white\"}}, \"header\": {\"fill\": {\"color\": \"#C8D4E3\"}, \"line\": {\"color\": \"white\"}}, \"type\": \"table\"}]}, \"layout\": {\"annotationdefaults\": {\"arrowcolor\": \"#2a3f5f\", \"arrowhead\": 0, \"arrowwidth\": 1}, \"coloraxis\": {\"colorbar\": {\"outlinewidth\": 0, \"ticks\": \"\"}}, \"colorscale\": {\"diverging\": [[0, \"#8e0152\"], [0.1, \"#c51b7d\"], [0.2, \"#de77ae\"], [0.3, \"#f1b6da\"], [0.4, \"#fde0ef\"], [0.5, \"#f7f7f7\"], [0.6, \"#e6f5d0\"], [0.7, \"#b8e186\"], [0.8, \"#7fbc41\"], [0.9, \"#4d9221\"], [1, \"#276419\"]], \"sequential\": [[0.0, \"#0d0887\"], [0.1111111111111111, \"#46039f\"], [0.2222222222222222, \"#7201a8\"], [0.3333333333333333, \"#9c179e\"], [0.4444444444444444, \"#bd3786\"], [0.5555555555555556, \"#d8576b\"], [0.6666666666666666, \"#ed7953\"], [0.7777777777777778, \"#fb9f3a\"], [0.8888888888888888, \"#fdca26\"], [1.0, \"#f0f921\"]], \"sequentialminus\": [[0.0, \"#0d0887\"], [0.1111111111111111, \"#46039f\"], [0.2222222222222222, \"#7201a8\"], [0.3333333333333333, \"#9c179e\"], [0.4444444444444444, \"#bd3786\"], [0.5555555555555556, \"#d8576b\"], [0.6666666666666666, \"#ed7953\"], [0.7777777777777778, \"#fb9f3a\"], [0.8888888888888888, \"#fdca26\"], [1.0, \"#f0f921\"]]}, \"colorway\": [\"#636efa\", \"#EF553B\", \"#00cc96\", \"#ab63fa\", \"#FFA15A\", \"#19d3f3\", \"#FF6692\", \"#B6E880\", \"#FF97FF\", \"#FECB52\"], \"font\": {\"color\": \"#2a3f5f\"}, \"geo\": {\"bgcolor\": \"white\", \"lakecolor\": \"white\", \"landcolor\": \"#E5ECF6\", \"showlakes\": true, \"showland\": true, \"subunitcolor\": \"white\"}, \"hoverlabel\": {\"align\": \"left\"}, \"hovermode\": \"closest\", \"mapbox\": {\"style\": \"light\"}, \"paper_bgcolor\": \"white\", \"plot_bgcolor\": \"#E5ECF6\", \"polar\": {\"angularaxis\": {\"gridcolor\": \"white\", \"linecolor\": \"white\", \"ticks\": \"\"}, \"bgcolor\": \"#E5ECF6\", \"radialaxis\": {\"gridcolor\": \"white\", \"linecolor\": \"white\", \"ticks\": \"\"}}, \"scene\": {\"xaxis\": {\"backgroundcolor\": \"#E5ECF6\", \"gridcolor\": \"white\", \"gridwidth\": 2, \"linecolor\": \"white\", \"showbackground\": true, \"ticks\": \"\", \"zerolinecolor\": \"white\"}, \"yaxis\": {\"backgroundcolor\": \"#E5ECF6\", \"gridcolor\": \"white\", \"gridwidth\": 2, \"linecolor\": \"white\", \"showbackground\": true, \"ticks\": \"\", \"zerolinecolor\": \"white\"}, \"zaxis\": {\"backgroundcolor\": \"#E5ECF6\", \"gridcolor\": \"white\", \"gridwidth\": 2, \"linecolor\": \"white\", \"showbackground\": true, \"ticks\": \"\", \"zerolinecolor\": \"white\"}}, \"shapedefaults\": {\"line\": {\"color\": \"#2a3f5f\"}}, \"ternary\": {\"aaxis\": {\"gridcolor\": \"white\", \"linecolor\": \"white\", \"ticks\": \"\"}, \"baxis\": {\"gridcolor\": \"white\", \"linecolor\": \"white\", \"ticks\": \"\"}, \"bgcolor\": \"#E5ECF6\", \"caxis\": {\"gridcolor\": \"white\", \"linecolor\": \"white\", \"ticks\": \"\"}}, \"title\": {\"x\": 0.05}, \"xaxis\": {\"automargin\": true, \"gridcolor\": \"white\", \"linecolor\": \"white\", \"ticks\": \"\", \"title\": {\"standoff\": 15}, \"zerolinecolor\": \"white\", \"zerolinewidth\": 2}, \"yaxis\": {\"automargin\": true, \"gridcolor\": \"white\", \"linecolor\": \"white\", \"ticks\": \"\", \"title\": {\"standoff\": 15}, \"zerolinecolor\": \"white\", \"zerolinewidth\": 2}}}, \"title\": {\"text\": \"Predicted brent and product prices\"}},\n",
       "                        {\"responsive\": true}\n",
       "                    ).then(function(){\n",
       "                            \n",
       "var gd = document.getElementById('a4cbcdd1-a1d1-435e-a870-836abebd794c');\n",
       "var x = new MutationObserver(function (mutations, observer) {{\n",
       "        var display = window.getComputedStyle(gd).display;\n",
       "        if (!display || display === 'none') {{\n",
       "            console.log([gd, 'removed!']);\n",
       "            Plotly.purge(gd);\n",
       "            observer.disconnect();\n",
       "        }}\n",
       "}});\n",
       "\n",
       "// Listen for the removal of the full notebook cells\n",
       "var notebookContainer = gd.closest('#notebook-container');\n",
       "if (notebookContainer) {{\n",
       "    x.observe(notebookContainer, {childList: true});\n",
       "}}\n",
       "\n",
       "// Listen for the clearing of the current output cell\n",
       "var outputEl = gd.closest('.output');\n",
       "if (outputEl) {{\n",
       "    x.observe(outputEl, {childList: true});\n",
       "}}\n",
       "\n",
       "                        })\n",
       "                };\n",
       "                });\n",
       "            </script>\n",
       "        </div>"
      ]
     },
     "metadata": {},
     "output_type": "display_data"
    },
    {
     "data": {
      "application/vnd.jupyter.widget-view+json": {
       "model_id": "a52493e6156043b4b0c3f40751ea247d",
       "version_major": 2,
       "version_minor": 0
      },
      "text/plain": [
       "interactive(children=(Dropdown(description='model', options=('Bonny_light', 'Urals_NWE', 'Urals_MED', 'Tapis',…"
      ]
     },
     "metadata": {},
     "output_type": "display_data"
    }
   ],
   "source": [
    "import pandas as pd\n",
    "import numpy as np\n",
    "import matplotlib.pyplot as plt  \n",
    "from sklearn.ensemble import RandomForestRegressor\n",
    "import ipywidgets as widgets\n",
    "from ipywidgets import interact\n",
    "from sklearn.cluster import KMeans\n",
    "from sklearn.preprocessing import StandardScaler\n",
    "from sklearn import linear_model\n",
    "import statsmodels.api as sm\n",
    "\n",
    "import plotly.graph_objs as go\n",
    "from plotly.offline import iplot, init_notebook_mode\n",
    "# Using plotly + cufflinks in offline mode\n",
    "import cufflinks\n",
    "cufflinks.go_offline(connected=True)\n",
    "init_notebook_mode(connected=True)\n",
    "\n",
    "combi = pd.read_table('Historical_combi2.csv',delimiter =',')\n",
    "\n",
    "import datetime\n",
    "datetimes = [datetime.datetime.strptime(d, '%d/%m/%Y') for d in combi[\"Date\"]]\n",
    "\n",
    "\n",
    "df = pd.DataFrame(datetimes, columns=['date'])\n",
    "df.loc[:, 'date'] = pd.to_datetime(df['date'], format='%Y-%m-%d')\n",
    "combi = combi.assign(df=df['date'].values)\n",
    "\n",
    "pd.plotting.register_matplotlib_converters()\n",
    "\n",
    "input1 = pd.read_table('inputdata.csv',delimiter=',')\n",
    "\n",
    "DB = input1[\"Dated Brent\"]\n",
    "Po = input1[\"Propane\"]\n",
    "Gasoline = input1[\"Gasoline\"]\n",
    "Jet = input1[\"Jet\"]\n",
    "Go = input1[\"Gasoil\"]\n",
    "FO1 = input1[\"FO 1%\"]\n",
    "ULSD = input1[\"ULSD\"]\n",
    "Na = input1[\"Naphtha\"]\n",
    "Bu = input1[\"Butane\"]\n",
    "FO35 = input1[\"FO 3.5%\"]\n",
    "VGO05 = input1[\"VGO 0.5%\"]\n",
    "FO05 = input1[\"FO 0.5%\"]\n",
    "VGO2 = input1[\"VGO 2%\"]\n",
    "Year = input1[\"Year\"]\n",
    "\n",
    "\n",
    "df = input1\n",
    "\n",
    "iplot({'data':[{'x': df['Year'],\n",
    "           'y': df[col],\n",
    "           'name': col} for col in df.columns[1:]],\n",
    "\n",
    "     'layout':\n",
    "         {'title':'Predicted brent and product prices'}\n",
    "}, show_link=False)\n",
    "\n",
    "\n",
    "\n",
    "def plot(df)\n",
    "    iplot({'data':[{'x': df['Year'],\n",
    "           'y': df[col],\n",
    "           'name': col} for col in df.columns[1:]],\n",
    "\n",
    "     'layout':\n",
    "         {'title':'Predicted brent and product prices'}\n",
    "    }, show_link=False)\n",
    "    \n",
    "\n",
    "def esc(code):\n",
    "    return f'\\033[{code}m'\n",
    "\n",
    "def plotdiag(combi,model):\n",
    "    \n",
    "    model = model.replace(\"_\", \" \")\n",
    "    plt.rcParams['figure.dpi'] = 100\n",
    "    rma60 = combi[model].rolling(window=60).mean()\n",
    "    ema60 = combi[model].ewm(span=60, adjust=False).mean()\n",
    "    plt.plot(combi[\"df\"],combi[model])\n",
    "    plt.plot(combi[\"df\"],rma60)\n",
    "    plt.plot(combi[\"df\"],ema60)\n",
    "    plt.legend((\"Monthly\",\"rma\",\"ema\"))\n",
    "    plt.show()\n",
    "    output = [combi['df'],rma60,ema60]\n",
    "    output_all = pd.concat(output, axis=1)\n",
    "    return output_all\n",
    "\n",
    "def regressionlinear(X,Y):\n",
    "    regr = linear_model.LinearRegression()\n",
    "    regr.fit(X, Y)\n",
    "    #print('Intercept: \\n', regr.intercept_)\n",
    "    #print('Coefficients: \\n', regr.coef_)\n",
    "\n",
    "    X = sm.add_constant(X.to_numpy())\n",
    "    model = sm.OLS(Y, X).fit()\n",
    "    predictions = model.predict(X) \n",
    " \n",
    "    print_model = model.summary()\n",
    "    #print(print_model)\n",
    "    \n",
    "    return regr.intercept_,regr.coef_\n",
    "\n",
    "\n",
    "\n",
    "def randomforest(x_train,y_train,x_test,y_test):\n",
    "    \n",
    "    plt.rcParams['figure.dpi'] = 100\n",
    "\n",
    "    regressor = RandomForestRegressor(n_estimators=200, max_depth=5)\n",
    "    clf=regressor.fit(x_train, y_train)\n",
    "\n",
    "    y_pred=regressor.predict(x_test)\n",
    "    y_pred=pd.DataFrame(y_pred)\n",
    "\n",
    "\n",
    "    plt_train=plt.scatter(x_train.iloc[:,0],y_train,   color='grey')\n",
    "    plt_test=plt.scatter(x_test.iloc[:,0],y_test,   color='green')\n",
    "    plt_pred=plt.scatter(x_test.iloc[:,0], y_pred,  color='black')\n",
    "\n",
    "    plt.xlabel(x_test.columns[0])\n",
    "    plt.ylabel(y_test.columns[0])\n",
    "    plt.legend((plt_train, plt_test,plt_pred),(\"train data\", \"test data\",\"prediction\"))\n",
    "    plt.show()\n",
    "\n",
    "    print(\"Mean squared error: %.2f\" % np.mean((regressor.predict(x_train) - y_train) ** 2))\n",
    "\n",
    "    import seaborn as sns\n",
    "    importances=regressor.feature_importances_\n",
    "\n",
    "    indices=list(x_train)\n",
    "    print(\"Feature ranking:\")\n",
    "    \n",
    "    for f in range(x_train.shape[1]):\n",
    "        print(\"Feature %s (%f)\" % (indices[f], importances[f]))\n",
    "\n",
    "    f, (ax1) = plt.subplots(1, 1, figsize=(6, 4), sharex=True)\n",
    "    sns.barplot(indices, importances, palette=\"BrBG\", ax=ax1)\n",
    "    ax1.set_ylabel(\"Importance\")\n",
    "\n",
    "    ax1.set_xticklabels(\n",
    "    ax1.get_xticklabels(),\n",
    "    rotation=45,\n",
    "    horizontalalignment='right'\n",
    "    );\n",
    "\n",
    "    return regressor.predict\n",
    "\n",
    "\n",
    "@interact(model=['Bonny_light', 'Urals_NWE','Urals_MED','Tapis','Maya_USGC','Maya_Europe','WTI','Dalia','Dubai','Azeri_BTC'\n",
    "                 ,'Arab_light','Arab_Heavy','Mars','ORL','Oseberg_blend'])\n",
    "\n",
    "      \n",
    "def NPV_Calc(model):\n",
    "    \n",
    "    \n",
    "    \n",
    "    if model == 'Bonny_light':\n",
    "             \n",
    "        plotdiag(combi,model)\n",
    "        \n",
    "                           \n",
    "        #Non linear model\n",
    "        nonlinear_BL = 0.0164924882990988*(DB) + 4.43302177278368e-5*np.power(DB,2) - 0.157317431833725\n",
    "        #print(\"Non.linear predicted price =[\", nonlinear_BL,\"]\")\n",
    "        \n",
    "        #Linear model\n",
    "        Y = combi[['Bonny light']].dropna()\n",
    "        K=list(Y.index.values)\n",
    "        K[0]\n",
    "        X = combi[['Dated Brent']].iloc[K[0]:]\n",
    "        #print(X)\n",
    "        #print(Y)\n",
    "        intercept_, coef_ = regressionlinear(X,Y)\n",
    "        linear_BL=intercept_+ coef_[0]*DB \n",
    "        #print(\"Linear predicted price =\", linear_BL)\n",
    "        \n",
    "        #Random forest\n",
    "               \n",
    "        All = pd.concat([X,Y],axis=1,sort=False)\n",
    "        train = All.iloc[:150,:]\n",
    "        test =All.iloc[-100:,:]\n",
    "        \n",
    "        x_train=train[\"Dated Brent\"].to_frame()\n",
    "        y_train=train[\"Bonny light\"]\n",
    "        \n",
    "        x_test=test[\"Dated Brent\"].to_frame()\n",
    "        y_test=test[\"Bonny light\"].to_frame()\n",
    "        F=randomforest(x_train,y_train,x_test,y_test)\n",
    "        \n",
    "\n",
    "        #invar = {'Dated Brent':[DB]}\n",
    "        invar_df = DB.to_frame()\n",
    "        y_pred = F(invar_df)\n",
    "        y_pred=pd.Series(y_pred)\n",
    "        \n",
    "       \n",
    "        table = [Year,np.round(linear_BL,2),np.round(nonlinear_BL,2),np.round(y_pred,2)]\n",
    "        tableshow = pd.concat(table, axis =1)\n",
    "        tableshow.columns = ['Year','Linear','Nonlinear','Randomforest']\n",
    "        display(tableshow)\n",
    "        \n",
    "        plot(tableshow)\n",
    "\n",
    "              \n",
    "      \n",
    "        \n",
    "    elif model == 'Urals_NWE':\n",
    "        \n",
    "        plotdiag(combi,model)\n",
    "                \n",
    "        #Non linear model\n",
    "        nonlinear_UralN = 0.221579893076645*(FO35) + 0.0169570894526404*(DB) - 0.0154492977171762 \n",
    "        - 0.0697233738254049*Go - 0.00856228790867718*Go*(FO35) - 0.00421761896551571*(FO35)**2\n",
    "                \n",
    "        #Linear model\n",
    "        Y = combi[['Urals NWE']].dropna()\n",
    "        K=list(Y.index.values)\n",
    "        K[0]\n",
    "        X = combi[['Dated Brent','FO 3.5%',\"Gasoil\"]].iloc[K[0]:]\n",
    "        X=X.fillna(0)               \n",
    "        intercept_, coef_ = regressionlinear(X,Y)\n",
    "        coef_ = coef_.reshape(-1)\n",
    "        linear_UralN=intercept_+ coef_[0]*DB + coef_[1]*FO35 + coef_[2]*Go\n",
    "                \n",
    "        #Random forest\n",
    "            \n",
    "        All = pd.concat([X,Y],axis=1,sort=False)\n",
    "        train = All.iloc[-100:,:]\n",
    "        test =All.iloc[:-100,:]\n",
    "        \n",
    "        x_train=train[[\"Dated Brent\",\"FO 3.5%\",\"Gasoil\"]]\n",
    "        y_train=train[\"Urals NWE\"]\n",
    "        \n",
    "        x_test=test[[\"Dated Brent\",\"FO 3.5%\",\"Gasoil\"]]\n",
    "        y_test=test[\"Urals NWE\"].to_frame()\n",
    "        F=randomforest(x_train,y_train,x_test,y_test)\n",
    "        \n",
    "\n",
    "        invar_df = pd.concat([DB,FO35,Go],axis = 1)\n",
    "        y_pred = F(invar_df)\n",
    "        y_pred=pd.Series(y_pred)\n",
    "        \n",
    "        \n",
    "        table = [Year,np.round(linear_UralN,2),np.round(nonlinear_UralN,2),np.round(y_pred,2)]\n",
    "        tableshow = pd.concat(table, axis =1)\n",
    "        tableshow.columns = ['Year','Linear','Nonlinear','Randomforest']\n",
    "        display(tableshow)\n",
    "        \n",
    "    elif model == 'Tapis':    \n",
    "        \n",
    "        plotdiag(combi,model)\n",
    "        \n",
    "        #Non linear model\n",
    "        nonlinear_Tapis = 0.569028548370371 + 0.158148187922098*Jet + 1.72847337855664e-6*np.power(DB,3)\n",
    "        + 0.000198531291135097*Jet*np.power(ULSD,2) - 0.000213781975514373*np.power(ULSD,3)\n",
    "        \n",
    "        #Linear model\n",
    "        Y = combi[['Tapis']].dropna()\n",
    "        K=list(Y.index.values)\n",
    "        K[0]\n",
    "        X = combi[['Dated Brent','Jet','ULSD']].iloc[K[0]:]\n",
    "        X = X.fillna(0)       \n",
    "        intercept_, coef_ = regressionlinear(X,Y)\n",
    "        coef_ = coef_.reshape(-1)\n",
    "        linear_Tapis=intercept_+ coef_[0]*DB + coef_[1]*Jet + coef_[2]*ULSD\n",
    "        \n",
    "        #Random forest\n",
    "               \n",
    "        All = pd.concat([X,Y],axis=1,sort=False)\n",
    "        train = All.iloc[-100:,:]\n",
    "        test =All.iloc[:-100,:]\n",
    "        \n",
    "        x_train=train[[\"Dated Brent\",\"Jet\",\"ULSD\"]]\n",
    "        y_train=train[\"Tapis\"]\n",
    "        \n",
    "        x_test=test[[\"Dated Brent\",\"Jet\",\"ULSD\"]]\n",
    "        y_test=test[\"Tapis\"].to_frame()\n",
    "        F=randomforest(x_train,y_train,x_test,y_test)\n",
    "        \n",
    "       \n",
    "        invar_df = pd.concat([DB,Jet,ULSD],axis = 1)\n",
    "        y_pred = F(invar_df)\n",
    "        y_pred=pd.Series(y_pred)\n",
    "        \n",
    "        \n",
    "        table = [Year,np.round(linear_Tapis,2),np.round(nonlinear_Tapis,2),np.round(y_pred,2)]\n",
    "        tableshow = pd.concat(table, axis =1)\n",
    "        tableshow.columns = ['Year','Linear','Nonlinear','Randomforest']\n",
    "        display(tableshow)\n",
    "               \n",
    "        \n",
    "    elif model == 'WTI':\n",
    "        \n",
    "        plotdiag(combi,model)\n",
    "        \n",
    "        #Non linear model\n",
    "        nonlinear_WTI = -15.142388486653 - 2.06420352656404*Bu - 0.00877784990583735*DB*VGO05\n",
    "        - 0.000867998048676867*np.power(Bu,3) - 0.0803378779475392*np.power(Bu,2)\n",
    "        \n",
    "        #Linear model\n",
    "        Y = combi[['WTI']].dropna()\n",
    "        K=list(Y.index.values)\n",
    "        K[0]\n",
    "        X = combi[['Dated Brent','Butane','VGO 0.5%']].iloc[K[0]:]\n",
    "        X = X.fillna(0)       \n",
    "        intercept_, coef_ = regressionlinear(X,Y)\n",
    "        coef_ = coef_.reshape(-1)\n",
    "        linear_WTI=intercept_+ coef_[0]*DB + coef_[1]*Bu + coef_[2]*VGO05\n",
    "        \n",
    "        #Random forest\n",
    "        All = pd.concat([X,Y],axis=1,sort=False)\n",
    "        train = All.iloc[-80:,:]\n",
    "        test =All.iloc[:80,:]\n",
    "        \n",
    "        x_train=train[[\"Dated Brent\",\"Butane\",\"VGO 0.5%\"]]\n",
    "        y_train=train[\"WTI\"]\n",
    "        \n",
    "        x_test=test[[\"Dated Brent\",\"Butane\",\"VGO 0.5%\"]]\n",
    "        y_test=test[\"WTI\"].to_frame()\n",
    "        F=randomforest(x_train,y_train,x_test,y_test)\n",
    "        \n",
    "\n",
    "        invar_df = pd.concat([DB,Bu,VGO05],axis = 1)\n",
    "        y_pred = F(invar_df)\n",
    "        y_pred=pd.Series(y_pred)\n",
    "        \n",
    "        \n",
    "        table = [Year,np.round(linear_WTI,2),np.round(nonlinear_WTI,2),np.round(y_pred,2)]\n",
    "        tableshow = pd.concat(table, axis =1)\n",
    "        tableshow.columns = ['Year','Linear','Nonlinear','Randomforest']\n",
    "        print('Non.Linear prediction for WTI is not reliable')\n",
    "        display(tableshow)       \n",
    "        \n",
    "    elif model == 'Maya_USGC':   \n",
    "        \n",
    "        plotdiag(combi,model)\n",
    "        \n",
    "        #nonlinear model\n",
    "        nonlinear_MayaU =  0.687587246470687*FO35 + 0.00911247235417213*np.power(Jet,2) \n",
    "        + 0.0036123829112612*np.power(FO35,2) - 0.242991626831371*Jet\n",
    "\n",
    "        #Linear model\n",
    "        Y = combi[['Maya USGC']].dropna()\n",
    "        K=list(Y.index.values)\n",
    "        K[0]\n",
    "        X = combi[['Dated Brent','FO 3.5%','Jet']].iloc[K[0]:]\n",
    "        X = X.fillna(0)       \n",
    "        intercept_, coef_ = regressionlinear(X,Y)\n",
    "        coef_ = coef_.reshape(-1)\n",
    "        linear_MayaU=intercept_+ coef_[0]*DB + coef_[1]*FO35 + coef_[2]*Jet\n",
    "        \n",
    "        #Random forest\n",
    "        All = pd.concat([X,Y],axis=1,sort=False)\n",
    "        train = All.iloc[-150:,:]\n",
    "        test =All.iloc[:-100,:]\n",
    "        \n",
    "        x_train=train[[\"Dated Brent\",\"FO 3.5%\",\"Jet\"]]\n",
    "        y_train=train[\"Maya USGC\"]\n",
    "        \n",
    "        x_test=test[[\"Dated Brent\",\"FO 3.5%\",\"Jet\"]]\n",
    "        y_test=test[\"Maya USGC\"].to_frame()\n",
    "        F=randomforest(x_train,y_train,x_test,y_test)\n",
    "        \n",
    "\n",
    "        invar_df = pd.concat([DB,FO35,Jet],axis = 1)\n",
    "        y_pred = F(invar_df)\n",
    "        y_pred=pd.Series(y_pred)\n",
    "        \n",
    "        table = [Year,np.round(linear_MayaU,2),np.round(nonlinear_MayaU,2),np.round(y_pred,2)]\n",
    "        tableshow = pd.concat(table, axis =1)\n",
    "        tableshow.columns = ['Year','Linear','Nonlinear','Randomforest']\n",
    "        display(tableshow)      \n",
    "       \n",
    "        \n",
    "    elif model == 'Dubai':\n",
    "        \n",
    "        plotdiag(combi,model)\n",
    "        \n",
    "        #nonlinear model\n",
    "        nonlinear_Dubai = 0.231614617140716*(FO35) + 0.0567664299088329*(DB) \n",
    "        + 0.000111685887466789*(DB)*np.power(FO35,2) - 1.13165773385408 \n",
    "        - 3.92742103073686e-6*np.power(DB,3) - 0.0101251631604449*np.power(FO35,2)\n",
    "        \n",
    "        #Linear model\n",
    "        Y = combi[['Dubai']].dropna()\n",
    "        K=list(Y.index.values)\n",
    "        K[0]\n",
    "        X = combi[['Dated Brent','FO 3.5%','FO 1%']].iloc[K[0]:]\n",
    "        X = X.fillna(0)       \n",
    "        intercept_, coef_ = regressionlinear(X,Y)\n",
    "        coef_ = coef_.reshape(-1)\n",
    "        linear_Dubai=intercept_+ coef_[0]*DB + coef_[1]*FO35 + coef_[2]*FO1\n",
    "        \n",
    "        #Random forest\n",
    "        All = pd.concat([X,Y],axis=1,sort=False)\n",
    "        train = All.iloc[-100:,:]\n",
    "        test =All.iloc[:-100:]\n",
    "        \n",
    "        x_train=train[[\"Dated Brent\",\"FO 3.5%\",\"FO 1%\"]]\n",
    "        y_train=train[\"Dubai\"]\n",
    "        \n",
    "        x_test=test[[\"Dated Brent\",\"FO 3.5%\",\"FO 1%\"]]\n",
    "        y_test=test[\"Dubai\"].to_frame()\n",
    "        F=randomforest(x_train,y_train,x_test,y_test)\n",
    "        \n",
    "      \n",
    "        invar_df = pd.concat([DB,FO35,FO1],axis = 1)\n",
    "        y_pred = F(invar_df)\n",
    "        y_pred=pd.Series(y_pred)\n",
    "        \n",
    "  \n",
    "        table = [Year,np.round(linear_Dubai,2),np.round(nonlinear_Dubai,2),np.round(y_pred,2)]\n",
    "        tableshow = pd.concat(table, axis =1)\n",
    "        tableshow.columns = ['Year','Linear','Nonlinear','Randomforest']\n",
    "        display(tableshow)    \n",
    "\n",
    "    elif model == 'Azeri_BTC':\n",
    "        \n",
    "        plotdiag(combi,model)\n",
    "        \n",
    "        #Nonlinear model\n",
    "        nonlinear_BTC = 2 - 0.0186675105114445*DB*np.exp(-7.82878945629328e-9*Po*Na*np.power(DB,3))\n",
    "        #linear model\n",
    "        Y = combi[['Azeri BTC']].dropna()\n",
    "        K=list(Y.index.values)\n",
    "        K[0]\n",
    "        X = combi[['Dated Brent','Propane','Naphtha']].iloc[K[0]:]\n",
    "        X = X.fillna(0)       \n",
    "        intercept_, coef_ = regressionlinear(X,Y)\n",
    "        coef_ = coef_.reshape(-1)\n",
    "        linear_BTC=intercept_+ coef_[0]*DB + coef_[1]*Po + coef_[2]*Na\n",
    "        \n",
    "        #Random forest\n",
    "        All = pd.concat([X,Y],axis=1,sort=False)\n",
    "        train = All.iloc[:-50,:]\n",
    "        test =All.iloc[-100:,:]\n",
    "        \n",
    "        x_train=train[[\"Dated Brent\",\"Propane\",\"Naphtha\"]]\n",
    "        y_train=train[\"Azeri BTC\"]\n",
    "        \n",
    "        x_test=test[[\"Dated Brent\",\"Propane\",\"Naphtha\"]]\n",
    "        y_test=test[\"Azeri BTC\"].to_frame()\n",
    "        F=randomforest(x_train,y_train,x_test,y_test)\n",
    "        \n",
    "        invar_df = pd.concat([DB,Po,Na],axis = 1)\n",
    "        y_pred = F(invar_df)\n",
    "        y_pred=pd.Series(y_pred)\n",
    "        \n",
    "        \n",
    "        table = [Year,np.round(linear_BTC,2),np.round(nonlinear_BTC,2),np.round(y_pred,2)]\n",
    "        tableshow = pd.concat(table, axis =1)\n",
    "        tableshow.columns = ['Year','Linear','Nonlinear','Randomforest']\n",
    "        display(tableshow)\n",
    "    \n",
    "    elif model == 'Arab_light':\n",
    "        \n",
    "        plotdiag(combi,model)\n",
    "        #Nonlinear model\n",
    "        nonlinear_ArabL = 7.89067436674442 + 0.0158412920210973*Jet*(VGO2) \n",
    "        + 0.00760596666502651*np.power(DB,2)- 0.534520760449475*(DB)- 3.23806029482173e-5*np.power(DB,3) \n",
    "        - 1.39671145737361e-9*(VGO2)*np.power(DB,4)\n",
    "        \n",
    "        #Linearmodel\n",
    "        Y = combi[['Arab light']].dropna()\n",
    "        K=list(Y.index.values)\n",
    "        K[0]\n",
    "        X = combi[['Dated Brent','Jet','VGO 2%','ULSD']].iloc[K[0]:]\n",
    "        X = X.fillna(0)       \n",
    "        intercept_, coef_ = regressionlinear(X,Y)\n",
    "        coef_ = coef_.reshape(-1)\n",
    "        linear_ArabL=intercept_+ coef_[0]*DB + coef_[1]*Jet + coef_[2]*VGO2 + coef_[3]*ULSD\n",
    "        \n",
    "        #Random forest\n",
    "        All = pd.concat([X,Y],axis=1,sort=False)\n",
    "        train = All.iloc[-150:,:]\n",
    "        test =All.iloc[:-100,:]\n",
    "        \n",
    "        x_train=train[[\"Dated Brent\",\"Jet\",\"VGO 2%\",\"ULSD\"]]\n",
    "        y_train=train[\"Arab light\"]\n",
    "       \n",
    "        x_test=test[[\"Dated Brent\",\"Jet\",\"VGO 2%\",\"ULSD\"]]\n",
    "        y_test=test[\"Arab light\"].to_frame()\n",
    "        F=randomforest(x_train,y_train,x_test,y_test)\n",
    "        \n",
    "       \n",
    "        invar_df = pd.concat([DB,Jet,VGO2,ULSD],axis = 1)\n",
    "        y_pred = F(invar_df)\n",
    "        y_pred=pd.Series(y_pred)\n",
    "        \n",
    "        \n",
    "        table = [Year,np.round(linear_ArabL,2),np.round(nonlinear_ArabL,2),np.round(y_pred,2)]\n",
    "        tableshow = pd.concat(table, axis =1)\n",
    "        tableshow.columns = ['Year','Linear','Nonlinear','Randomforest']\n",
    "        print('Non.Linear prediction for Arab light is not reliable')\n",
    "        display(tableshow)    \n",
    "\n",
    "    \n",
    "        \n",
    "    elif model == 'Arab_Heavy': \n",
    "        \n",
    "        plotdiag(combi,model)\n",
    "        #Nonlinear model\n",
    "        \n",
    "        try: \n",
    "            k = 13/Jet   \n",
    "        \n",
    "        except ZeroDivisionError:\n",
    "        \n",
    "            k = 0\n",
    "        \n",
    "        nonlinear_ArabH = 0.635846243381231*(FO35) + 0.500212454466471*Jet + k \n",
    "        + -0.0025957970628738/np.exp(0.635846243381231*(FO35) + 0.500212454466471*Jet) \n",
    "        - 5.90911403987227 - 0.0271336502751073*Jet*(FO35) - 0.0254885412647423*np.power(Jet,2)\n",
    "        \n",
    "        #Linear model\n",
    "        Y = combi[['Arab Heavy']].dropna()\n",
    "        K=list(Y.index.values)\n",
    "        K[0]\n",
    "        X = combi[['Dated Brent','FO 3.5%','Jet']].iloc[K[0]:]\n",
    "        X = X.fillna(0)       \n",
    "        intercept_, coef_ = regressionlinear(X,Y)\n",
    "        coef_ = coef_.reshape(-1)\n",
    "        linear_ArabH=intercept_+ coef_[0]*DB + coef_[1]*FO35 + coef_[2]*Jet \n",
    "        \n",
    "        #Random forest\n",
    "        All = pd.concat([X,Y],axis=1,sort=False)\n",
    "        train = All.iloc[-150:,:]\n",
    "        test =All.iloc[:-100,:]\n",
    "        \n",
    "        x_train=train[[\"FO 3.5%\",\"Jet\"]]\n",
    "        y_train=train[\"Arab Heavy\"]\n",
    "       \n",
    "        x_test=test[[\"FO 3.5%\",\"Jet\"]]\n",
    "        y_test=test[\"Arab Heavy\"].to_frame()\n",
    "        F=randomforest(x_train,y_train,x_test,y_test)\n",
    "        \n",
    "       \n",
    "        invar_df = pd.concat([FO35,Jet],axis = 1)\n",
    "        y_pred = F(invar_df)\n",
    "        y_pred=pd.Series(y_pred)\n",
    "        \n",
    "        table = [Year,np.round(linear_ArabH,2),np.round(nonlinear_ArabH,2),np.round(y_pred,2)]\n",
    "        tableshow = pd.concat(table, axis =1)\n",
    "        tableshow.columns = ['Year','Linear','Nonlinear','Randomforest']\n",
    "        print('Non.Linear prediction for Arab heavy is not reliable')\n",
    "        display(tableshow) \n",
    "        \n",
    "    elif model == 'Maya_Europe': \n",
    "        \n",
    "        plotdiag(combi,model)\n",
    "        #Nonlinear model\n",
    "        nonlinear_MayaE =  0.494070816929047*(FO35) + 0.00213078770640727*Go**2 - 4.30356291903192\n",
    "\n",
    "        #Linear model\n",
    "        Y = combi[['Maya Europe']].dropna()\n",
    "        K=list(Y.index.values)\n",
    "        K[0]\n",
    "        X = combi[['FO 3.5%','Gasoil',\"FO 1%\"]].iloc[K[0]:]\n",
    "        X = X.fillna(0)       \n",
    "        intercept_, coef_ = regressionlinear(X,Y)\n",
    "        coef_ = coef_.reshape(-1)\n",
    "        linear_MayaE=intercept_+ coef_[0]*FO35 + coef_[1]*Go + coef_[2]*FO1\n",
    "        \n",
    "        #Random forest\n",
    "        All = pd.concat([X,Y],axis=1,sort=False)\n",
    "        train = All.iloc[:,:]\n",
    "        test =All.iloc[-100:,:]\n",
    "        \n",
    "        x_train=train[[\"FO 3.5%\",\"Gasoil\",\"FO 1%\"]]\n",
    "        y_train=train[\"Maya Europe\"]\n",
    "       \n",
    "        x_test=test[[\"FO 3.5%\",\"Gasoil\",\"FO 1%\"]]\n",
    "        y_test=test[\"Maya Europe\"].to_frame()\n",
    "        F=randomforest(x_train,y_train,x_test,y_test)\n",
    "        \n",
    "        invar_df = pd.concat([FO35,Go,FO1],axis = 1)\n",
    "        y_pred = F(invar_df)\n",
    "        y_pred=pd.Series(y_pred)\n",
    "        \n",
    "               \n",
    "        table = [Year,np.round(linear_MayaE,2),np.round(nonlinear_MayaE,2),np.round(y_pred,2)]\n",
    "        tableshow = pd.concat(table, axis =1)\n",
    "        tableshow.columns = ['Year','Linear','Nonlinear','Randomforest']\n",
    "        display(tableshow) \n",
    "        \n",
    "    elif model == 'Mars': \n",
    "        \n",
    "        plotdiag(combi,model)\n",
    "        \n",
    "        #Nonlinear model\n",
    "        nonlinear_Mars =  0.00533572984584189*Jet + 0.00232258205864726*Jet**2 - 5.0468498330526 \n",
    "        - 0.379625720730507*(FO35) - 0.000535344925798245*(FO35)**3 - 0.0324550409045776*(FO35)**2\n",
    "\n",
    "        #Linear model\n",
    "        Y = combi[['Mars']].dropna()\n",
    "        K=list(Y.index.values)\n",
    "        K[0]\n",
    "        X = combi[['FO 3.5%','Jet']].iloc[K[0]:]\n",
    "        X = X.fillna(0)       \n",
    "        intercept_, coef_ = regressionlinear(X,Y)\n",
    "        coef_ = coef_.reshape(-1)\n",
    "        linear_Mars=intercept_+ coef_[0]*FO35 + coef_[1]*Jet \n",
    "        \n",
    "        #Random forest\n",
    "        All = pd.concat([X,Y],axis=1,sort=False)\n",
    "        train = All.iloc[-150:,:]\n",
    "        test =All.iloc[:-100,:]\n",
    "        \n",
    "        x_train=train[[\"FO 3.5%\",\"Jet\"]]\n",
    "        y_train=train[\"Mars\"]\n",
    "       \n",
    "        x_test=test[[\"FO 3.5%\",\"Jet\"]]\n",
    "        y_test=test[\"Mars\"].to_frame()\n",
    "        F=randomforest(x_train,y_train,x_test,y_test)\n",
    "        \n",
    "        invar_df = pd.concat([FO35,Jet],axis = 1)\n",
    "        y_pred = F(invar_df)\n",
    "        y_pred=pd.Series(y_pred)\n",
    "        \n",
    "        \n",
    "        table = [Year,np.round(linear_Mars,2),np.round(nonlinear_Mars,2),np.round(y_pred,2)]\n",
    "        tableshow = pd.concat(table, axis =1)\n",
    "        tableshow.columns = ['Year','Linear','Nonlinear','Randomforest']\n",
    "        display(tableshow)\n",
    "        \n",
    "    elif model == 'Urals_MED': \n",
    "        \n",
    "        plotdiag(combi,model)\n",
    "        \n",
    "        #Nonlinear model\n",
    "        nonlinear_UralM =  0.00724612659575245*(FO1)**2 + 0.00153428845373314*(FO1)**3 - 1.24167501962635 \n",
    "        - 0.03181704251647*(FO35) - 0.210034973409967*(FO1) - 0.0295232993636577*(FO1)*(FO35) \n",
    "        - 0.00160888639770049*(FO35)*(FO1)**2\n",
    "        \n",
    "        #Linear model\n",
    "        Y = combi[['Urals MED']].dropna()\n",
    "        K=list(Y.index.values)\n",
    "        K[0]\n",
    "        X = combi[['FO 3.5%','FO 1%']].iloc[K[0]:]\n",
    "        X = X.fillna(0)       \n",
    "        intercept_, coef_ = regressionlinear(X,Y)\n",
    "        coef_ = coef_.reshape(-1)\n",
    "        linear_UralM=intercept_+ coef_[0]*FO35 + coef_[1]*FO1\n",
    "        \n",
    "        \n",
    "      \n",
    "        #Random forest\n",
    "        All = pd.concat([X,Y],axis=1,sort=False)\n",
    "        train = All.iloc[-150:,:]\n",
    "        test =All.iloc[:-100,:]\n",
    "        \n",
    "        #x_train=train[[\"FO 3.5%\",\"FO 1%\"]]\n",
    "        x_train=train[[\"FO 3.5%\"]]\n",
    "        y_train=train[\"Urals MED\"]\n",
    "       \n",
    "        #x_test=test[[\"FO 3.5%\",\"FO 1%\"]]\n",
    "        x_test=test[[\"FO 3.5%\"]]\n",
    "        y_test=test[\"Urals MED\"].to_frame()\n",
    "        F=randomforest(x_train,y_train,x_test,y_test)\n",
    "        \n",
    "             \n",
    "        invar_df = pd.concat([FO35],axis = 1)\n",
    "        y_pred = F(invar_df)\n",
    "        y_pred=pd.Series(y_pred)\n",
    "        \n",
    "        \n",
    "        table = [Year,np.round(linear_UralM,2),np.round(nonlinear_UralM,2),np.round(y_pred,2)]\n",
    "        tableshow = pd.concat(table, axis =1)\n",
    "        tableshow.columns = ['Year','Linear','Nonlinear','Randomforest']\n",
    "        display(tableshow)   \n",
    "          \n",
    "        \n",
    "    elif model == 'ORL': \n",
    "        \n",
    "        plotdiag(combi,model)\n",
    "        #Nonlinear model\n",
    "        nonlinear_ORL = 3.26973453707456e-6*Na*Bu*Po**2 - 0.314833608268645 - 0.0162685919989057*Na*Bu\n",
    "        \n",
    "        #Linear model\n",
    "        Y = combi[['ORL']].dropna()\n",
    "        K=list(Y.index.values)\n",
    "        K[0]\n",
    "        X = combi[['Naphtha','Butane','Propane']].iloc[K[0]:]\n",
    "        X = X.fillna(0)       \n",
    "        intercept_, coef_ = regressionlinear(X,Y)\n",
    "        coef_ = coef_.reshape(-1)\n",
    "        linear_ORL=intercept_+ coef_[0]*Na + coef_[1]*Bu + coef_[2]*Po\n",
    "        \n",
    "        #Random forest\n",
    "        All = pd.concat([X,Y],axis=1,sort=False)\n",
    "        train = All.iloc[:,:]\n",
    "        test =All.iloc[-100:,:]\n",
    "        \n",
    "        x_train=train[[\"Naphtha\",\"Butane\",\"Propane\"]]\n",
    "        y_train=train[\"ORL\"]\n",
    "       \n",
    "        x_test=test[[\"Naphtha\",\"Butane\",\"Propane\"]]\n",
    "        y_test=test[\"ORL\"].to_frame()\n",
    "        F=randomforest(x_train,y_train,x_test,y_test)\n",
    "        \n",
    "              \n",
    "        invar_df = pd.concat([Na,Bu,Po],axis = 1)\n",
    "        y_pred = F(invar_df)\n",
    "        y_pred=pd.Series(y_pred)\n",
    "        \n",
    "        \n",
    "        table = [Year,np.round(linear_ORL,2),np.round(nonlinear_ORL,2),np.round(y_pred,2)]\n",
    "        tableshow = pd.concat(table, axis =1)\n",
    "        tableshow.columns = ['Year','Linear','Nonlinear','Randomforest']\n",
    "        display(tableshow)\n",
    "\n",
    "    elif model == 'Oseberg_blend': \n",
    "        \n",
    "        plotdiag(combi,model)\n",
    "        \n",
    "        #Nonliner model\n",
    "        nonlinear_Ose = 0.011666686468756*(DB) + 3.67495911112595e-7*np.power(DB,3)\n",
    "        \n",
    "        #linear model\n",
    "        Y = combi[['Oseberg blend']].dropna()\n",
    "        K=list(Y.index.values)\n",
    "        K[0]\n",
    "        X = combi[['Dated Brent']].iloc[K[0]:]\n",
    "        X = X.fillna(0)       \n",
    "        intercept_, coef_ = regressionlinear(X,Y)\n",
    "        coef_ = coef_.reshape(-1)\n",
    "        linear_Ose=intercept_+ coef_[0]*DB\n",
    "        \n",
    "        #Random forest\n",
    "        All = pd.concat([X,Y],axis=1,sort=False)\n",
    "        train = All.iloc[:-70,:]\n",
    "        test =All.iloc[-100:,:]\n",
    "        \n",
    "        x_train=train[[\"Dated Brent\"]]\n",
    "        y_train=train[\"Oseberg blend\"]\n",
    "       \n",
    "        x_test=test[[\"Dated Brent\"]]\n",
    "        y_test=test[\"Oseberg blend\"].to_frame()\n",
    "        F=randomforest(x_train,y_train,x_test,y_test)\n",
    "        \n",
    "            \n",
    "        invar_df = pd.concat([DB],axis = 1)\n",
    "        y_pred = F(invar_df)\n",
    "        y_pred=pd.Series(y_pred)\n",
    "        \n",
    "        \n",
    "        table = [Year,np.round(linear_Ose,2),np.round(nonlinear_Ose,2),np.round(y_pred,2)]\n",
    "        tableshow = pd.concat(table, axis =1)\n",
    "        tableshow.columns = ['Year','Linear','Nonlinear','Randomforest']\n",
    "        print('Non.Linear prediction for Ormen Lange is not reliable')\n",
    "        display(tableshow)\n",
    "        \n",
    "    elif model == 'Dalia':\n",
    "        \n",
    "        plotdiag(combi,model)\n",
    "        #Nonliner model\n",
    "        nonlinear_Dalia =  0.239431509820856*(FO1) + 0.00159358124012133*(DB)*(FO1)\n",
    "        + 0.000155571867417853*(DB)*(FO1)**2\n",
    "        \n",
    "        #linear model\n",
    "        Y = combi[['Dalia']].dropna()\n",
    "        K=list(Y.index.values)\n",
    "        K[0]\n",
    "        X = combi[['FO 1%','Dated Brent']].iloc[K[0]:]\n",
    "        X = X.fillna(0)       \n",
    "        intercept_, coef_ = regressionlinear(X,Y)\n",
    "        coef_ = coef_.reshape(-1)\n",
    "        linear_Dalia=intercept_+ coef_[0]*FO1 + coef_[1]*DB \n",
    "        \n",
    "        #Random forest\n",
    "        All = pd.concat([X,Y],axis=1,sort=False)\n",
    "        train = All.iloc[-150:,:]\n",
    "        test =All.iloc[:-100,:]\n",
    "        \n",
    "        x_train=train[[\"FO 1%\",\"Dated Brent\"]]\n",
    "        y_train=train[\"Dalia\"]\n",
    "       \n",
    "        x_test=test[[\"FO 1%\",\"Dated Brent\"]]\n",
    "        y_test=test[\"Dalia\"].to_frame()\n",
    "        F=randomforest(x_train,y_train,x_test,y_test)\n",
    "        \n",
    "               \n",
    "        invar_df = pd.concat([FO1, DB],axis = 1)\n",
    "        y_pred = F(invar_df)\n",
    "        y_pred=pd.Series(y_pred)\n",
    "        \n",
    "        \n",
    "        table = [Year,np.round(linear_Dalia,2),np.round(nonlinear_Dalia,2),np.round(y_pred,2)]\n",
    "        tableshow = pd.concat(table, axis =1)\n",
    "        tableshow.columns = ['Year','Linear','Nonlinear','Randomforest']\n",
    "        display(tableshow)\n",
    "        \n",
    "        \n",
    "    else:\n",
    "        print('choose something from drop down menu')   \n",
    "\n",
    "    return\n",
    "    \n",
    "\n",
    "\n",
    "\n",
    "\n",
    "\n",
    "\n"
   ]
  },
  {
   "cell_type": "code",
   "execution_count": null,
   "metadata": {},
   "outputs": [],
   "source": []
  },
  {
   "cell_type": "code",
   "execution_count": null,
   "metadata": {},
   "outputs": [],
   "source": []
  },
  {
   "cell_type": "code",
   "execution_count": null,
   "metadata": {},
   "outputs": [],
   "source": []
  },
  {
   "cell_type": "code",
   "execution_count": null,
   "metadata": {},
   "outputs": [],
   "source": []
  },
  {
   "cell_type": "code",
   "execution_count": null,
   "metadata": {},
   "outputs": [],
   "source": [
    "\n"
   ]
  }
 ],
 "metadata": {
  "kernelspec": {
   "display_name": "Python 3",
   "language": "python",
   "name": "python3"
  },
  "language_info": {
   "codemirror_mode": {
    "name": "ipython",
    "version": 3
   },
   "file_extension": ".py",
   "mimetype": "text/x-python",
   "name": "python",
   "nbconvert_exporter": "python",
   "pygments_lexer": "ipython3",
   "version": "3.7.3"
  }
 },
 "nbformat": 4,
 "nbformat_minor": 2
}
